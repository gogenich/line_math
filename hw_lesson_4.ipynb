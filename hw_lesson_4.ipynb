{
 "cells": [
  {
   "cell_type": "markdown",
   "id": "3ae559d4",
   "metadata": {},
   "source": [
    "# Системы линейных уравнений. Часть 1"
   ]
  },
  {
   "cell_type": "markdown",
   "id": "a7a905ee",
   "metadata": {},
   "source": [
    "### 1.__ Решить систему уравнений методом Гаусса:\n",
    "\n",
    "$$\\begin{cases}\n",
    "x_{1}+x_{2}-x_{3}-2x_{4}=0, \\\\\n",
    "2x_{1}+x_{2}-x_{3}+x_{4}=-2, \\\\\n",
    "x_{1}+x_{2}-3x_{3}+x_{4}=4.\n",
    "\\end{cases}$$\n"
   ]
  },
  {
   "cell_type": "markdown",
   "id": "17744cbe",
   "metadata": {},
   "source": [
    "Решение: представим уравнение в виде матрицы\n",
    "\n",
    "$\\begin{pmatrix}\n",
    "\\left.\\begin{matrix}\n",
    "1 & 1 & -1 & -2\\\\ \n",
    "2 & 1 & -1 & 1 \\\\ \n",
    "1 & 1 & -3 & 1\n",
    "\\end{matrix}\\right|\n",
    "\\begin{matrix}\n",
    "0\\\\ \n",
    "-2\\\\\n",
    "4\n",
    "\\end{matrix}\n",
    "\\end{pmatrix}$\n",
    "\n",
    "из 3 строки вычтем первую \n",
    "\n",
    "$\\begin{pmatrix}\n",
    "\\left.\\begin{matrix}\n",
    "1 & 1 & -1 & -2\\\\ \n",
    "2 & 1 & -1 & 1 \\\\ \n",
    "0 & 0 & -2 & 3\n",
    "\\end{matrix}\\right|\n",
    "\\begin{matrix}\n",
    "0\\\\ \n",
    "-2\\\\\n",
    "4\n",
    "\\end{matrix}\n",
    "\\end{pmatrix}$\n",
    "\n",
    "из 2 строки вычтем первую\n",
    "\n",
    "$\\begin{pmatrix}\n",
    "\\left.\\begin{matrix}\n",
    "1 & 1 & -1 & -2\\\\ \n",
    "1 & 0 & 0 & 3 \\\\ \n",
    "0 & 0 & -2 & 3\n",
    "\\end{matrix}\\right|\n",
    "\\begin{matrix}\n",
    "0\\\\ \n",
    "-2\\\\\n",
    "4\n",
    "\\end{matrix}\n",
    "\\end{pmatrix}$\n",
    "\n",
    "дальше никаких преобразований сделать мы не можем так как не хватаем уравнений, следовательно система имеет бесконечно много решений\n"
   ]
  },
  {
   "cell_type": "markdown",
   "id": "b031bbc4",
   "metadata": {},
   "source": [
    "### 2.__ Проверить на совместность и выяснить, сколько решений будет иметь система линейных уравнений:\n",
    "\n",
    "   а) $\\begin{cases}\n",
    "3x_{1}-x_{2}+x_{3}=4, \\\\\n",
    "2x_{1}-5x_{2}-3x_{3}=-17, \\\\\n",
    "x_{1}+x_{2}-x_{3}=0;\n",
    "\\end{cases}$\n",
    "    \n",
    "   б) $\\begin{cases}\n",
    "2x_{1}-4x_{2}+6x_{3}=1, \\\\\n",
    "x_{1}-2x_{2}+3x_{3}=-2, \\\\\n",
    "3x_{1}-6x_{2}+9x_{3}=5;\n",
    "\\end{cases}$\n",
    "    \n",
    "   в) $\\begin{cases}\n",
    "x_{1}+2x_{2}+5x_{3}=4, \\\\\n",
    "3x_{1}+x_{2}-8x_{3}=-2. \n",
    "\\end{cases}$"
   ]
  },
  {
   "cell_type": "markdown",
   "id": "94265528",
   "metadata": {},
   "source": [
    "Решение: представим наши уравнения в виде расшириных матриц\n",
    "\n",
    " а) $\\begin{pmatrix}\n",
    "\\left.\\begin{matrix}\n",
    "3 & -1 & 1\\\\ \n",
    "2 & -5 & -3\\\\ \n",
    "1 & 1 & -1\n",
    "\\end{matrix}\\right|\n",
    "\\begin{matrix}\n",
    "4\\\\ \n",
    "-17\\\\\n",
    "0\n",
    "\\end{matrix}\n",
    "\\end{pmatrix}$\n",
    "\n",
    " б) $\\begin{pmatrix}\n",
    "\\left.\\begin{matrix}\n",
    "2 & -4 & 6\\\\ \n",
    "1 & -2 & 3\\\\ \n",
    "3 & -6 & 9\n",
    "\\end{matrix}\\right|\n",
    "\\begin{matrix}\n",
    "1\\\\ \n",
    "-2\\\\\n",
    "5\n",
    "\\end{matrix}\n",
    "\\end{pmatrix}$\n",
    "\n",
    " в) $\\begin{pmatrix}\n",
    "\\left.\\begin{matrix}\n",
    "1 & 2 & 5\\\\ \n",
    "3 & 1 & 8\n",
    "\\end{matrix}\\right|\n",
    "\\begin{matrix}\n",
    "4\\\\ \n",
    "-2\n",
    "\\end{matrix}\n",
    "\\end{pmatrix}$\n",
    "\n",
    "ранги расширенных матриц: a) 3, б) 3, в) 2\n",
    "\n",
    "колличество переменнных: a) 3, б) 3, в) 3\n",
    "\n",
    "ранги матриц посчитаем при помощи пайтон: a) 3, б) 1, в) 2"
   ]
  },
  {
   "cell_type": "code",
   "execution_count": 4,
   "id": "d83ad8cb",
   "metadata": {},
   "outputs": [
    {
     "name": "stdout",
     "output_type": "stream",
     "text": [
      "ранг матрицы а: 3\n",
      "ранг матрицы б: 1\n",
      "ранг матрицы в: 2\n"
     ]
    }
   ],
   "source": [
    "import numpy as np\n",
    "a = np.array([[3,-1,1],[2,-5,-3],[1,1,-1]])\n",
    "b = np.array([[2,-4,6],[1,-2,3],[3,-6,9]])\n",
    "v = np.array([[1,2,5],[3,1,8]])\n",
    "print(f'ранг матрицы а: {np.linalg.matrix_rank(a)}')\n",
    "print(f'ранг матрицы б: {np.linalg.matrix_rank(b)}')\n",
    "print(f'ранг матрицы в: {np.linalg.matrix_rank(v)}')"
   ]
  },
  {
   "cell_type": "markdown",
   "id": "6ded30f8",
   "metadata": {},
   "source": [
    "a) ранг расширенной матрицы завен матрице и равен количеству переменных следовательно уравнение имеет 1 решение\n",
    "\n",
    "б) ранг расширенной матрицы больше матрицы следовательно система несовместна\n",
    "\n",
    "в) ранг расширенной матрицы завен матрице но колличество переменных больше ранга матриц следовательно система имеет бесконечное количество решений\n",
    "\n"
   ]
  },
  {
   "cell_type": "markdown",
   "id": "3fd453c1",
   "metadata": {},
   "source": [
    "### 3.__ Проверить на совместность и выяснить, сколько решений будет иметь система линейных уравнений, заданная расширенной матрицей\n",
    "\n",
    "$$\\tilde{A}=\\begin{pmatrix}\n",
    "\\left.\\begin{matrix}\n",
    "1 & 3 & -2 & 4\\\\ \n",
    "0 & 5 & 0 & 1\\\\ \n",
    "0 & 0 & 3 & 0\\\\ \n",
    "0 & 0 & 0 & 2\n",
    "\\end{matrix}\\right|\n",
    "\\begin{matrix}\n",
    "3\\\\ \n",
    "2\\\\\n",
    "4\\\\\n",
    "1\n",
    "\\end{matrix}\n",
    "\\end{pmatrix}.$$"
   ]
  },
  {
   "cell_type": "code",
   "execution_count": 8,
   "id": "7e480975",
   "metadata": {},
   "outputs": [
    {
     "name": "stdout",
     "output_type": "stream",
     "text": [
      "ранг матрицы а: 4\n",
      "ранг расширенной матрицы а: 4\n"
     ]
    }
   ],
   "source": [
    "A = np.array([[1,3,-2,4],[0,5,0,1],[0,0,3,0],[0,0,0,2]])\n",
    "A_r = np.array([[1,3,-2,4,3],[0,5,0,1,2],[0,0,3,0,4],[0,0,0,2,1]])\n",
    "print(f'ранг матрицы а: {np.linalg.matrix_rank(A)}')\n",
    "print(f'ранг расширенной матрицы а: {np.linalg.matrix_rank(A_r)}')"
   ]
  },
  {
   "cell_type": "markdown",
   "id": "54abc271",
   "metadata": {},
   "source": [
    "ранг матрицы равен рангу расширенной матрици, следовательно система имеет одно решение"
   ]
  },
  {
   "cell_type": "markdown",
   "id": "67078da2",
   "metadata": {},
   "source": [
    "### 4.__ Дана система линейных уравнений, заданная расширенной матрицей\n",
    "\n",
    "$$\\tilde{A}=\\begin{pmatrix}\n",
    "\\left.\\begin{matrix}\n",
    "1 & 2 & 3\\\\ \n",
    "4 & 5 & 6\\\\ \n",
    "7 & 8 & 9\n",
    "\\end{matrix}\\right|\n",
    "\\begin{matrix}\n",
    "a\\\\ \n",
    "b\\\\\n",
    "c\n",
    "\\end{matrix}\n",
    "\\end{pmatrix}.$$\n",
    "\n",
    "Найти соотношение между параметрами $a$, $b$ и $c$, при которых система является несовместной."
   ]
  },
  {
   "cell_type": "code",
   "execution_count": 9,
   "id": "21a3b621",
   "metadata": {},
   "outputs": [
    {
     "name": "stdout",
     "output_type": "stream",
     "text": [
      "ранг матрицы а: 2\n"
     ]
    }
   ],
   "source": [
    "A = np.array([[1,2,3],[4,5,6],[7,8,9]])\n",
    "print(f'ранг матрицы A: {np.linalg.matrix_rank(A)}')"
   ]
  },
  {
   "cell_type": "markdown",
   "id": "11c306c9",
   "metadata": {},
   "source": [
    "если ранг расширенной матрици будет равет 2 то система будет иметь бесконечное количество решений или одно решение(зависит от количества переменных), ранг расширенной матрици равен 2 только в том случае если a,b,c навны 0 одновременно.\n",
    "\n",
    "Следовательно для того что бы система была несовместной нужно чтобы ранг расширенной матрицы равен трем, а это все случаи кроме 0,0,0"
   ]
  },
  {
   "cell_type": "markdown",
   "id": "dec1a024",
   "metadata": {},
   "source": [
    "# Системы линейных уравнений. Часть 2"
   ]
  },
  {
   "cell_type": "markdown",
   "id": "937936d1",
   "metadata": {},
   "source": [
    "### __1.__ Решить систему уравнений методом Крамера:\n",
    "\n",
    "   а) $\\begin{cases}\n",
    "x_{1}-2x_{2}=1 \\\\\n",
    "3x_{1}-4x_{2}=7\n",
    "\\end{cases}$\n",
    "    \n",
    "   б) $\\begin{cases}\n",
    "2x_{1}-x_{2}+5x_{3}=10 \\\\\n",
    "x_{1}+x_{2}-3x_{3}=-2 \\\\\n",
    "2x_{1}+4x_{2}+x_{3}=1\n",
    "\\end{cases}$"
   ]
  },
  {
   "cell_type": "markdown",
   "id": "80312ad4",
   "metadata": {},
   "source": [
    "Решение a)\n",
    "\n",
    "Найдем определитель матрицы коэффициентов:\n",
    "\n",
    "$detA=\\begin{vmatrix}\n",
    "1 & -2\\\\ \n",
    "3 & -4 \n",
    "\\end{vmatrix}= 1*(-4) - (-2)*3 = -4 + 6 = 2\n",
    "$\n",
    "\n",
    "определитель не равен 0 следовательно решаем по формуле $x_{i}=\\frac{detA_{i}}{detA},$\n",
    "\n",
    "Найдем определители $detA_{1}$, $detA_{2}$:\n",
    "\n",
    "$detA_{1}=\\begin{vmatrix}\n",
    "1 & -2\\\\ \n",
    "7 & -4 \n",
    "\\end{vmatrix}= 1*(-4) - (-2)*7 = -4 + 14 = 10\n",
    "$\n",
    "\n",
    "$detA_{2}=\\begin{vmatrix}\n",
    "1 & 1\\\\ \n",
    "3 & 7 \n",
    "\\end{vmatrix}= 1*7 - 1*3 = 7 - 3 = 4\n",
    "$\n",
    "\n",
    "$x_{1}= 5$\n",
    "$x_{2}= 2$"
   ]
  },
  {
   "cell_type": "code",
   "execution_count": 1,
   "id": "f1160083",
   "metadata": {},
   "outputs": [
    {
     "name": "stdout",
     "output_type": "stream",
     "text": [
      "x_1 = 4.999999999999998, x_2 = 1.9999999999999991\n"
     ]
    }
   ],
   "source": [
    "import numpy as np\n",
    "A = np.array([[1,-2],[3,-4]])\n",
    "A_1 = np.array([[1,-2],[7,-4]])\n",
    "A_2 = np.array([[1,1],[3,7]])\n",
    "x_1 = np.linalg.det(A_1) / np.linalg.det(A)\n",
    "x_2 = np.linalg.det(A_2) / np.linalg.det(A)\n",
    "print(f'x_1 = {x_1}, x_2 = {x_2}')"
   ]
  },
  {
   "cell_type": "markdown",
   "id": "23b1abd7",
   "metadata": {},
   "source": [
    "Решение b)\n",
    "\n",
    "Найдем определитель матрицы коэффициентов :\n",
    "\n",
    "$detA=\\begin{vmatrix}\n",
    "2 & -1 & 5\\\\ \n",
    "1 & 1 & -3 \\\\\n",
    "2 & 4 & 1\n",
    "\\end{vmatrix} = 2* (1 + 12) + (1 + 6) + 5(4 - 2) = 26 + 7 + 10 = 43\n",
    "$\n",
    "\n",
    "определитель не равен 0 следовательно решаем по формуле $x_{i}=\\frac{detA_{i}}{detA},$\n",
    "\n",
    "Найдем определители $detA_{1}$, $detA_{2}$, $detA_{3}$:\n",
    "\n",
    "$detA_1=\\begin{vmatrix}\n",
    "10 & -1 & 5\\\\ \n",
    "-2 & 1 & -3 \\\\\n",
    "1 & 4 & 1\n",
    "\\end{vmatrix} = 10* (1 + 12) + (-2 + 3) + 5(-8 - 1) = 130 + 1 - 45 = 86\n",
    "$\n",
    "\n",
    "$detA_2=\\begin{vmatrix}\n",
    "2 & 10 & 5\\\\ \n",
    "1 & -2 & -3 \\\\\n",
    "2 & 1 & 1\n",
    "\\end{vmatrix} = 2* (-2 + 3) - 10(1 + 6) + 5(1 + 4) = 2 - 70 + 25 = -43\n",
    "$\n",
    "\n",
    "$detA_3=\\begin{vmatrix}\n",
    "2 & -1 & 10\\\\ \n",
    "1 & 1 & -2 \\\\\n",
    "2 & 4 & 1\n",
    "\\end{vmatrix} = 2* (1 + 8) + (1 + 4) + 10(4 - 2) = 18 + 5 + 20 = 43\n",
    "$\n",
    "\n",
    "$x_{1}= 2$\n",
    "$x_{2}= -1$\n",
    "$x_{3}= 1$"
   ]
  },
  {
   "cell_type": "code",
   "execution_count": 10,
   "id": "68b2da0b",
   "metadata": {},
   "outputs": [
    {
     "name": "stdout",
     "output_type": "stream",
     "text": [
      "x_1 = 2.0000000000000018, x_2 = -1.0000000000000009, x_2 = 1.0\n"
     ]
    }
   ],
   "source": [
    "A = np.array([[2,-1,5],[1,1,-3],[2,4,1]])\n",
    "A_1 = np.array([[10,-1,5],[-2,1,-3],[1,4,1]])\n",
    "A_2 = np.array([[2,10,5],[1,-2,-3],[2,1,1]])\n",
    "A_3 = np.array([[2,-1,10],[1,1,-2],[2,4,1]])\n",
    "x_1 = np.linalg.det(A_1) / np.linalg.det(A)\n",
    "x_2 = np.linalg.det(A_2) / np.linalg.det(A)\n",
    "x_3 = np.linalg.det(A_3) / np.linalg.det(A)\n",
    "print(f'x_1 = {x_1}, x_2 = {x_2}, x_2 = {x_3}')"
   ]
  },
  {
   "cell_type": "markdown",
   "id": "b1153133",
   "metadata": {},
   "source": [
    "### 5*.__ Написать на Python программу с реализацией одного из изученных алгоритмов решения СЛАУ."
   ]
  },
  {
   "cell_type": "code",
   "execution_count": 34,
   "id": "0a7d15ad",
   "metadata": {},
   "outputs": [],
   "source": [
    "def kramer(a,b):\n",
    "    A_det = np.linalg.det(a)\n",
    "    if A_det == 0:\n",
    "        return 'система не имеет решений'\n",
    "    rezult = {}\n",
    "    for i in range(len(a)):\n",
    "        x = a.T.copy()\n",
    "        x[i] = b\n",
    "        rezult[f'x_{i+1}'] = np.linalg.det(x.T)/A_det\n",
    "    return rezult"
   ]
  },
  {
   "cell_type": "code",
   "execution_count": 35,
   "id": "f4abbdd0",
   "metadata": {},
   "outputs": [
    {
     "data": {
      "text/plain": [
       "{'x_1': 2.0000000000000018, 'x_2': -1.0000000000000009, 'x_3': 1.0}"
      ]
     },
     "execution_count": 35,
     "metadata": {},
     "output_type": "execute_result"
    }
   ],
   "source": [
    "A = np.array([[2,-1,5],[1,1,-3],[2,4,1]])\n",
    "b = np.array([10,-2,1])\n",
    "kramer(A,b)"
   ]
  }
 ],
 "metadata": {
  "kernelspec": {
   "display_name": "Python 3",
   "language": "python",
   "name": "python3"
  },
  "language_info": {
   "codemirror_mode": {
    "name": "ipython",
    "version": 3
   },
   "file_extension": ".py",
   "mimetype": "text/x-python",
   "name": "python",
   "nbconvert_exporter": "python",
   "pygments_lexer": "ipython3",
   "version": "3.8.10"
  }
 },
 "nbformat": 4,
 "nbformat_minor": 5
}
