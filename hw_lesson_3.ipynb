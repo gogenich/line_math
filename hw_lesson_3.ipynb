{
 "cells": [
  {
   "cell_type": "markdown",
   "id": "3245c0e5",
   "metadata": {},
   "source": [
    "### __1.__ Найти собственные векторы и собственные значения для линейного оператора, заданного матрицей\n",
    "\n",
    "$$A=\\begin{pmatrix}\n",
    "-1 & -6\\\\ \n",
    "2 & 6\n",
    "\\end{pmatrix}.$$"
   ]
  },
  {
   "cell_type": "markdown",
   "id": "e881ce40",
   "metadata": {},
   "source": [
    "Решение: \n",
    "\n",
    "найдем собственные значения линейного оператора, составив и решив характеристическое уравнение\n",
    "\n",
    "$\\begin{pmatrix}\n",
    "-1 - \\lambda & -6\\\\ \n",
    "2 & 6 - \\lambda\n",
    "\\end{pmatrix}=0$\n",
    "\n",
    "$(-1-\\lambda)*(6-\\lambda)-2*(-6)=0$\n",
    "\n",
    "$\\lambda^{2}-5\\lambda+6=0$\n",
    "\n",
    "$\\lambda_{1}=3, \\lambda_{2}=2$"
   ]
  },
  {
   "cell_type": "markdown",
   "id": "8cf44d42",
   "metadata": {},
   "source": [
    "получаем 2 уровнения\n",
    "\n",
    "$\\textbf{A}x=\\lambda_{1}x$\n",
    "\n",
    "$\\textbf{A}x=\\lambda_{2}x$\n",
    "\n",
    "подставим наши значения:\n",
    "\n",
    "$\\begin{pmatrix}\n",
    "-1 & -6\\\\ \n",
    "2 & 6\n",
    "\\end{pmatrix}\n",
    "\\begin{pmatrix}\n",
    "x_{1}\\\\ \n",
    "x_{2}\n",
    "\\end{pmatrix}=\n",
    "3\n",
    "\\begin{pmatrix}\n",
    "x_{1}\\\\ \n",
    "x_{2}\n",
    "\\end{pmatrix}.\n",
    "$\n",
    "\n",
    "$\\begin{pmatrix}\n",
    "-1 & -6\\\\ \n",
    "2 & 6\n",
    "\\end{pmatrix}\n",
    "\\begin{pmatrix}\n",
    "x_{1}\\\\ \n",
    "x_{2}\n",
    "\\end{pmatrix}=\n",
    "2\n",
    "\\begin{pmatrix}\n",
    "x_{1}\\\\ \n",
    "x_{2}\n",
    "\\end{pmatrix}.\n",
    "$"
   ]
  },
  {
   "cell_type": "markdown",
   "id": "f63710d3",
   "metadata": {},
   "source": [
    "при перемножении получаем\n",
    "\n",
    "$\\begin{cases}\n",
    "-1x_{1}-6x_{2}= 3x_{1}, \\\\\n",
    " 2x_{1}+6x_{2}= 3x_{2}.\n",
    "\\end{cases}$\n",
    "\n",
    "$\\begin{cases}\n",
    "-1x_{1}-6x_{2}= 2x_{1}, \\\\\n",
    "2x_{1}+6x_{2}= 2x_{2}.\n",
    "\\end{cases}$"
   ]
  },
  {
   "cell_type": "markdown",
   "id": "491c8f4c",
   "metadata": {},
   "source": [
    "\n",
    "в итоге получаем $x_{1}= \\frac{-3x_{2}}{2}$ и $x_{1}= -2x_{2}$ где $x_{2}$свободные переменные кроме \n",
    "\n",
    "(-1.5,1),(-2,1)"
   ]
  },
  {
   "cell_type": "code",
   "execution_count": 1,
   "id": "ac67a0ec",
   "metadata": {},
   "outputs": [
    {
     "name": "stdout",
     "output_type": "stream",
     "text": [
      "собственные знач \n",
      "[2. 3.]\n",
      "собственные векторы \n",
      "[[-0.89442719  0.83205029]\n",
      " [ 0.4472136  -0.5547002 ]]\n"
     ]
    }
   ],
   "source": [
    "import numpy as np\n",
    "a = np.array([[-1,-6],[2,6]])\n",
    "w,v = np.linalg.eig(a)\n",
    "print(f'собственные знач \\n{w}')\n",
    "print(f'собственные векторы \\n{v}')"
   ]
  },
  {
   "cell_type": "markdown",
   "id": "79c62cb3",
   "metadata": {},
   "source": [
    "### __2.__ Дан оператор поворота на 180 градусов, задаваемый матрицей \n",
    "\n",
    "$$A=\\begin{pmatrix}\n",
    "-1 & 0\\\\ \n",
    "0 & -1\n",
    "\\end{pmatrix}.$$\n",
    "\n",
    "Показать, что __любой__ вектор является для него собственным."
   ]
  },
  {
   "cell_type": "markdown",
   "id": "d9c244f1",
   "metadata": {},
   "source": [
    "Решение:\n",
    "\n",
    "$\\begin{pmatrix}\n",
    "-1 - \\lambda & 0\\\\ \n",
    "0 & -1 - \\lambda\n",
    "\\end{pmatrix}=0$\n",
    "\n",
    "$(-1-\\lambda)^{2}=0$\n",
    "\n",
    "$\\lambda=-1$\n",
    "\n",
    "$\\begin{pmatrix}\n",
    "-1 & 0\\\\ \n",
    "0 & -1\n",
    "\\end{pmatrix}\n",
    "\\begin{pmatrix}\n",
    "a\\\\ \n",
    "b\n",
    "\\end{pmatrix}=\n",
    "-\n",
    "\\begin{pmatrix}\n",
    "a\\\\ \n",
    "b\n",
    "\\end{pmatrix}.\n",
    "$\n",
    "\n",
    "$\\begin{pmatrix}\n",
    "-1 & 0\\\\ \n",
    "0 & -1\n",
    "\\end{pmatrix} = -1$\n",
    "\n"
   ]
  },
  {
   "cell_type": "markdown",
   "id": "faed1b86",
   "metadata": {},
   "source": [
    "$\\begin{cases}\n",
    "-a = -a\\\\\n",
    "-b = -b\n",
    "\\end{cases}$"
   ]
  },
  {
   "cell_type": "code",
   "execution_count": 2,
   "id": "3f262a9e",
   "metadata": {},
   "outputs": [
    {
     "name": "stdout",
     "output_type": "stream",
     "text": [
      "собственные знач \n",
      "[-1. -1.]\n",
      "собственные векторы \n",
      "[[1. 0.]\n",
      " [0. 1.]]\n"
     ]
    }
   ],
   "source": [
    "a = np.array([[-1,0],[0,-1]])\n",
    "w,v = np.linalg.eig(a)\n",
    "print(f'собственные знач \\n{w}')\n",
    "print(f'собственные векторы \\n{v}')"
   ]
  },
  {
   "cell_type": "markdown",
   "id": "9c7b3065",
   "metadata": {},
   "source": [
    "### __3.__ Пусть линейный оператор задан матрицей\n",
    "\n",
    "$$A=\\begin{pmatrix}\n",
    "1 & 1\\\\ \n",
    "-1 & 3\n",
    "\\end{pmatrix}.$$\n",
    "\n",
    "Установить, является ли вектор $x=(1,1)$ собственным вектором этого линейного оператора."
   ]
  },
  {
   "cell_type": "markdown",
   "id": "236defc4",
   "metadata": {},
   "source": [
    "Решение:\n",
    "\n",
    "$A=\\begin{pmatrix}\n",
    "1 - \\lambda & 1\\\\ \n",
    "-1 & 3 - \\lambda\n",
    "\\end{pmatrix}=0$\n",
    "\n",
    "$(1-\\lambda)(3-\\lambda)+1=0$\n",
    "\n",
    "$\\lambda = \\frac{4+-32^{0.5}}{2}$\n",
    "\n",
    "собственное значение это комплексное число вектор (1,1) не являеться комплексным поэтому от не явсяеться собственным вектором оператора А"
   ]
  },
  {
   "cell_type": "code",
   "execution_count": 3,
   "id": "ad136aca",
   "metadata": {},
   "outputs": [
    {
     "name": "stdout",
     "output_type": "stream",
     "text": [
      "собственные знач \n",
      "[2.00000002 1.99999998]\n",
      "собственные векторы \n",
      "[[ 0.70710677 -0.70710679]\n",
      " [ 0.70710679 -0.70710677]]\n"
     ]
    }
   ],
   "source": [
    "a = np.array([[1,1],[-1,3]])\n",
    "w,v = np.linalg.eig(a)\n",
    "print(f'собственные знач \\n{w}')\n",
    "print(f'собственные векторы \\n{v}')"
   ]
  },
  {
   "cell_type": "markdown",
   "id": "7c6bdf8f",
   "metadata": {},
   "source": [
    "### 4. Пусть линейный оператор задан матрицей\n",
    "\n",
    "$$A=\\begin{pmatrix} 0 & 3 & 0\\\\ 3 & 0 & 0\\\\ 0 & 0 & 3 \\end{pmatrix}.$$\n",
    "\n",
    "Установить, является ли вектор $x=(3, -3, -4)$ собственным вектором этого линейного оператора."
   ]
  },
  {
   "cell_type": "markdown",
   "id": "4e351633",
   "metadata": {},
   "source": [
    "Решение: предположим что вектор х являеться собственным вектором оператора А\n",
    "\n",
    "$\\begin{pmatrix}\n",
    "0 & 3 & 0\\\\ \n",
    "3 & 0 & 0\\\\ \n",
    "0 & 0 & 3 \n",
    "\\end{pmatrix}\n",
    "\\begin{pmatrix} 3\\\\ -3\\\\ -4 \\end{pmatrix}\n",
    "=\\lambda \\begin{pmatrix} 3\\\\ -3\\\\ -4 \\end{pmatrix}$"
   ]
  },
  {
   "cell_type": "markdown",
   "id": "376d5e19",
   "metadata": {},
   "source": [
    "выполним перемножение матриц\n",
    "\n",
    "$\\begin{pmatrix} 0*3 + 3*-3 + 0*-4\\\\ 3*3+0*-3+0*-4\\\\ 0*3+0*-3 + 3*-4 \\end{pmatrix}$\n",
    "\n",
    "$\\begin{pmatrix} -9\\\\ 9\\\\ -12 \\end{pmatrix}$\n",
    "\n",
    "$\\begin{cases}\n",
    "-9= 3\\lambda \\\\\n",
    "9= -3\\lambda \\\\\n",
    "-12= -4\\lambda\n",
    "\\end{cases}$\n",
    "\n",
    "$\\begin{cases}\n",
    "\\lambda = -3\\\\\n",
    "\\lambda = -3 \\\\\n",
    "\\lambda = 3\n",
    "\\end{cases}$\n",
    "\n",
    "вывод: не являеться"
   ]
  },
  {
   "cell_type": "code",
   "execution_count": 4,
   "id": "4a634407",
   "metadata": {},
   "outputs": [
    {
     "data": {
      "text/plain": [
       "array([[ -9],\n",
       "       [  9],\n",
       "       [-12]])"
      ]
     },
     "execution_count": 4,
     "metadata": {},
     "output_type": "execute_result"
    }
   ],
   "source": [
    "a = np.array([[0,3,0],[3,0,0],[0,0,3]])\n",
    "b = np.array([[3],[-3],[-4]])\n",
    "np.dot(a,b)"
   ]
  },
  {
   "cell_type": "code",
   "execution_count": null,
   "id": "cfae00c8",
   "metadata": {},
   "outputs": [],
   "source": []
  }
 ],
 "metadata": {
  "kernelspec": {
   "display_name": "Python 3",
   "language": "python",
   "name": "python3"
  },
  "language_info": {
   "codemirror_mode": {
    "name": "ipython",
    "version": 3
   },
   "file_extension": ".py",
   "mimetype": "text/x-python",
   "name": "python",
   "nbconvert_exporter": "python",
   "pygments_lexer": "ipython3",
   "version": "3.8.10"
  }
 },
 "nbformat": 4,
 "nbformat_minor": 5
}
