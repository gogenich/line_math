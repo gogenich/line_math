{
 "cells": [
  {
   "cell_type": "markdown",
   "id": "11a13dc3",
   "metadata": {},
   "source": [
    "# __1.__ Исследовать на линейную зависимость:\n",
    "\n",
    "$$f_{1}(x)=e^{x}, f_{2}(x)=1, f_{3}(x)=x+1, f_{4}(x)=x-e^{x}.$$"
   ]
  },
  {
   "cell_type": "markdown",
   "id": "6b0ac9a7",
   "metadata": {},
   "source": [
    "   ##  Решение:\n",
    "докажем что одну из функций можно выразить через другие функции\n",
    "$$f_{4}(x)=f_{3}(x)-f_{2}(x)-2f_{1}(x)$$\n"
   ]
  },
  {
   "cell_type": "markdown",
   "id": "03b09438",
   "metadata": {},
   "source": [
    "# __2.__ Исследовать на линейную зависимость:\n",
    "$$f_{1}(x)=2, f_{2}(x)=x, f_{3}(x)=x^{2}, f_{4}(x)=(x+1)^{2}$$"
   ]
  },
  {
   "cell_type": "markdown",
   "id": "4d888478",
   "metadata": {},
   "source": [
    " ##  Решение:\n",
    "$$f_{4}(x)=(x+1)^2=x^2+2x+1$$\n",
    "докажем что одну из функций можно выразить через другие функции\n",
    "$$f_{4}(x)=f_{3}(x)+2f_{2}(x)+2f_{1}(x)$$"
   ]
  },
  {
   "cell_type": "markdown",
   "id": "ef2d4fe2",
   "metadata": {},
   "source": [
    "# __3.__ \n",
    "\n",
    "Найти координаты вектора $x = (2, 3, 5)\\in \\mathbb{R}^{3}$ в базисе $b_{1}=(0, 0, 10)$, $b_{2}=(2, 0, 0)$, $b_{3}=(0, 1, 0)$."
   ]
  },
  {
   "cell_type": "markdown",
   "id": "1ea1434d",
   "metadata": {},
   "source": [
    "## Решение\n",
    "$$x = 2,3,5 = 2b_{2}+3b_{3}+52b_{1}$$"
   ]
  },
  {
   "cell_type": "markdown",
   "id": "ee6cc677",
   "metadata": {},
   "source": [
    "## __4.__ Найти координаты вектора $3x^{2}-2x+2\\in\\mathbb{R}^{3}[x]$:\n",
    "\n",
    "а) в базисе $1$, $x$, $x^{2}$;\n",
    "\n",
    "б) в базисе $x^{2}$, $x-1$, $1$."
   ]
  },
  {
   "cell_type": "markdown",
   "id": "9cdca460",
   "metadata": {},
   "source": [
    "## Решение"
   ]
  },
  {
   "cell_type": "markdown",
   "id": "8c5d7a94",
   "metadata": {},
   "source": [
    "а)$e_{1}=(1,0,0), e_{2}=(0,x,0), e_{3}=(0,0,x^2)$\n",
    "\n",
    "$3x^{2}-2x+2\\in\\mathbb{R}^{3}[x]= 2 - 2x +3x^2 = 2e_{1} - 2e_{2} + 3e_{3}$\n"
   ]
  },
  {
   "cell_type": "markdown",
   "id": "4b63402a",
   "metadata": {},
   "source": [
    "б) а)$e_{1}=(x^2,0,0), e_{2}=(0,x-1,0), e_{3}=(0,0,1)$\n",
    "\n",
    "$3x^{2}-2x+2\\in\\mathbb{R}^{3}[x] = 3e_{1} - 3e_{2} + 2e_{3}$"
   ]
  },
  {
   "cell_type": "markdown",
   "id": "667a9087",
   "metadata": {},
   "source": [
    "# Часть 2\n"
   ]
  },
  {
   "cell_type": "markdown",
   "id": "0deabc7b",
   "metadata": {},
   "source": [
    "__1.__ Найти скалярное произведение векторов $x, y \\in \\mathbb{R}$:<br>\n",
    "а) $x=(0,-3, 6),~y=(-4, 7, 9);$<br>\n",
    "б) $x=(7, -4, 0, 1),~y=(-3, 1, 11, 2).$"
   ]
  },
  {
   "cell_type": "markdown",
   "id": "2cac7909",
   "metadata": {},
   "source": [
    "Решение\n",
    "\n",
    "а)x*y = 0*4-3*7+6*9 = 33\n",
    "\n",
    "b)x*y = -7*3-4*1+0*11+2*1 = -23"
   ]
  },
  {
   "cell_type": "code",
   "execution_count": 8,
   "id": "179bdc1b",
   "metadata": {},
   "outputs": [
    {
     "name": "stdout",
     "output_type": "stream",
     "text": [
      "cкалярное произведение векторов под а) = 33\n",
      "cкалярное произведение векторов под b) = -23\n"
     ]
    }
   ],
   "source": [
    "import numpy as np\n",
    "x_a = np.array([0,-3, 6])\n",
    "y_a = np.array([-4, 7, 9])\n",
    "x_b = np.array([7, -4, 0, 1])\n",
    "y_b = np.array([-3, 1, 11, 2])\n",
    "print(f'cкалярное произведение векторов под а) = {np.dot(x_a,y_a)}')\n",
    "print(f'cкалярное произведение векторов под b) = {np.dot(x_b,y_b)}')"
   ]
  },
  {
   "cell_type": "markdown",
   "id": "0f186aaa",
   "metadata": {},
   "source": [
    "__2.__ Найти нормы векторов $(4, 2, 4)$ и $(12, 3, 4)$ и угол между ними."
   ]
  },
  {
   "cell_type": "markdown",
   "id": "23fcce28",
   "metadata": {},
   "source": [
    "Решение\n",
    "\n",
    "Определим манхэттенскую норму векторов:\n",
    "\n",
    "$\\left\\|x\\right\\|_{1} = |4|+|2|+|4|=10.$\n",
    "\n",
    "$\\left\\|x\\right\\|_{1} = |12|+|3|+|4|=19.$\n",
    "\n",
    "Определим евклидову норму векторов :\n",
    "\n",
    "$\\left\\|x\\right\\|_{2} = \\sqrt{4^{2}+2^{2}+4^{2}}=\\sqrt{36}=6.$\n",
    "\n",
    "$\\left\\|x\\right\\|_{2} = \\sqrt{12^{2}+3^{2}+4^{2}}=\\sqrt{169}=13.$\n",
    "\n",
    "Определим угол между векторами по формуле\n",
    "\n",
    "$$cos\\varphi = \\frac{(x,y)}{\\left \\|x\\right \\|\\cdot\\left \\|y\\right \\|}.$$\n",
    "\n",
    "$cos\\varphi = \\frac{4*12 + 2*3 + 4*4}{6*13}= \\frac{70}{78}=0,86$"
   ]
  },
  {
   "cell_type": "code",
   "execution_count": 14,
   "id": "1e9e29ac",
   "metadata": {},
   "outputs": [
    {
     "name": "stdout",
     "output_type": "stream",
     "text": [
      "манхэттенская норма вектра а = 10.0\n",
      "манхэттенская норма вектра b = 19.0\n",
      "евклидова норма вектра а = 6.0\n",
      "евклидова норма вектра b = 13.0\n",
      "косинус угла между векторами = 0.8974358974358975\n"
     ]
    }
   ],
   "source": [
    "from numpy.linalg import norm\n",
    "a = np.array([4,2,4])\n",
    "b = np.array([12,3,4])\n",
    "print(f'манхэттенская норма вектра а = {norm(a, ord = 1)}')\n",
    "print(f'манхэттенская норма вектра b = {norm(b, ord = 1)}')\n",
    "print(f'евклидова норма вектра а = {norm(a, ord = 2)}')\n",
    "print(f'евклидова норма вектра b = {norm(b, ord = 2)}')\n",
    "print(f'косинус угла между векторами = {np.dot(a,b)/(norm(a, ord = 2)*norm(b, ord = 2))}')"
   ]
  },
  {
   "cell_type": "code",
   "execution_count": null,
   "id": "76986c7c",
   "metadata": {},
   "outputs": [],
   "source": []
  }
 ],
 "metadata": {
  "kernelspec": {
   "display_name": "Python 3",
   "language": "python",
   "name": "python3"
  },
  "language_info": {
   "codemirror_mode": {
    "name": "ipython",
    "version": 3
   },
   "file_extension": ".py",
   "mimetype": "text/x-python",
   "name": "python",
   "nbconvert_exporter": "python",
   "pygments_lexer": "ipython3",
   "version": "3.8.10"
  }
 },
 "nbformat": 4,
 "nbformat_minor": 5
}
