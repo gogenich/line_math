{
 "cells": [
  {
   "cell_type": "markdown",
   "id": "0d6b1f1f",
   "metadata": {},
   "source": [
    "# Lesson_3_Матрицы_и_матричные_операции,_Часть_1"
   ]
  },
  {
   "cell_type": "markdown",
   "id": "29a65a9d",
   "metadata": {},
   "source": [
    "### 1. Установить, какие произведения матриц  𝐴𝐵  и  𝐵𝐴  определены, и найти размерности полученных матриц:\n",
    "\n",
    "а)  𝐴  — матрица  4×2 ,  𝐵  — матрица  4×2 ;\n",
    "\n",
    "б)  𝐴  — матрица  2×5 ,  𝐵  — матрица  5×3 ;\n",
    "\n",
    "в)  𝐴  — матрица  8×3 ,  𝐵  — матрица  3×8 ;\n",
    "\n",
    "г)  𝐴  — квадратная матрица  4×4 ,  𝐵  — квадратная матрица  4×4 ."
   ]
  },
  {
   "cell_type": "markdown",
   "id": "4f5e72ad",
   "metadata": {},
   "source": [
    "Решение произведения определены только для матриц в) АВ -8*8 и г) АВ - 4*4 "
   ]
  },
  {
   "cell_type": "markdown",
   "id": "024ab0f7",
   "metadata": {},
   "source": [
    "    \n",
    "### __2.__ Найти сумму и произведение матриц $A=\\begin{pmatrix}\n",
    "1 & -2\\\\ \n",
    "3 & 0\n",
    "\\end{pmatrix}$ и $B=\\begin{pmatrix}\n",
    "4 & -1\\\\ \n",
    "0 & 5\n",
    "\\end{pmatrix}.$"
   ]
  },
  {
   "cell_type": "markdown",
   "id": "63c0955d",
   "metadata": {},
   "source": [
    "Решение:\n",
    "\n",
    "$A+B=\\begin{pmatrix}\n",
    "(1+4) & (-2-1)\\\\ \n",
    "(3+0) & (0+5)\n",
    "\\end{pmatrix}= \\begin{pmatrix}5 & -3\\\\3&5\\end{pmatrix}$\n",
    "\n",
    "$A*B=\\begin{pmatrix}\n",
    "(1*4+(-2*0)) & (1*(-1)-2*5)\\\\ \n",
    "(3*4+0*0) & (0*5+3*(-1))\n",
    "\\end{pmatrix}= \\begin{pmatrix}4 & -11\\\\12&-3\\end{pmatrix}$"
   ]
  },
  {
   "cell_type": "code",
   "execution_count": 1,
   "id": "8dc2c40a",
   "metadata": {},
   "outputs": [
    {
     "name": "stdout",
     "output_type": "stream",
     "text": [
      "A+B \n",
      " [[ 5 -3]\n",
      " [ 3  5]]\n",
      "\n",
      "A*B \n",
      " [[  4 -11]\n",
      " [ 12  -3]]\n",
      "\n"
     ]
    }
   ],
   "source": [
    "import numpy as np\n",
    "A = np.array([[1, -2], [3, 0]])\n",
    "B = np.array([[4, -1], [0, 5]])\n",
    "print(f'A+B \\n {A + B}\\n')\n",
    "print(f'A*B \\n {np.dot(A, B)}\\n')"
   ]
  },
  {
   "cell_type": "markdown",
   "id": "f473db7b",
   "metadata": {},
   "source": [
    "### __3.__ Из закономерностей сложения и умножения матриц на число можно сделать вывод, что матрицы одного размера образуют линейное пространство. Вычислить линейную комбинацию $3A-2B+4C$ для матриц $A=\\begin{pmatrix}\n",
    "1 & 7\\\\ \n",
    "3 & -6\n",
    "\\end{pmatrix}$, $B=\\begin{pmatrix}\n",
    "0 & 5\\\\ \n",
    "2 & -1\n",
    "\\end{pmatrix}$, $C=\\begin{pmatrix}\n",
    "2 & -4\\\\ \n",
    "1 & 1\n",
    "\\end{pmatrix}.$"
   ]
  },
  {
   "cell_type": "markdown",
   "id": "7f9c7995",
   "metadata": {},
   "source": [
    "Решение:\n",
    "\n",
    "$3A =\\begin{pmatrix}\n",
    "3 & 21\\\\ \n",
    "9 & -18\n",
    "\\end{pmatrix}$, $2B=\\begin{pmatrix}\n",
    "0 & 10\\\\ \n",
    "4 & -2\n",
    "\\end{pmatrix}$, $4C=\\begin{pmatrix}\n",
    "8 & -16\\\\ \n",
    "4 & 4\n",
    "\\end{pmatrix}.$"
   ]
  },
  {
   "cell_type": "markdown",
   "id": "02dda23f",
   "metadata": {},
   "source": [
    "$3A-2B+4C =\\begin{pmatrix}\n",
    "(3-0+8) & (21-10-16)\\\\ \n",
    "(9-4+4) & (-18+2+4)\n",
    "\\end{pmatrix}=\\begin{pmatrix}11&-5\\\\9&-12\\end{pmatrix}$"
   ]
  },
  {
   "cell_type": "code",
   "execution_count": 5,
   "id": "c8150ae4",
   "metadata": {},
   "outputs": [
    {
     "name": "stdout",
     "output_type": "stream",
     "text": [
      "3A-2B+4C \n",
      "[[ 11  -5]\n",
      " [  9 -12]]\n"
     ]
    }
   ],
   "source": [
    "A = np.array([[1, 7], [3, -6]])\n",
    "B = np.array([[0, 5], [2, -1]])\n",
    "C = np.array([[2, -4], [1, 1]])\n",
    "print(f'3A-2B+4C \\n{3*A-2*B+4*C}')"
   ]
  },
  {
   "cell_type": "markdown",
   "id": "1a99a645",
   "metadata": {},
   "source": [
    "### __4.__ Дана матрица $A=\\begin{pmatrix}\n",
    "4 & 1\\\\ \n",
    "5 & -2\\\\ \n",
    "2 & 3\n",
    "\\end{pmatrix}$.\n",
    "Вычислить $AA^{T}$ и $A^{T}A$."
   ]
  },
  {
   "cell_type": "markdown",
   "id": "30827afe",
   "metadata": {},
   "source": [
    "Решение:\n",
    "\n",
    "$A^T=\\begin{pmatrix}\n",
    "4 & 5 & 2\\\\ \n",
    "1 & -2 & 3\n",
    "\\end{pmatrix}$\n",
    "\n",
    "$A*A^T=\\begin{pmatrix}\n",
    "(4*4+1*1) & (4*5+1*(-2)) & (4*2+1*3)\\\\ \n",
    "(5*4+(-2)*1) & (5*5+(-2)*(-2)) & (5*2+(-2)*3)\\\\\n",
    "(2*4+3*1) & (2*5-3*2) & (2*2+3*3)\n",
    "\\end{pmatrix}= \\begin{pmatrix}\n",
    "17 & 18 & 11\\\\ \n",
    "18 & 29 & 4\\\\\n",
    "11 & 4 & 13\n",
    "\\end{pmatrix}$."
   ]
  },
  {
   "cell_type": "markdown",
   "id": "f1fd98ee",
   "metadata": {},
   "source": [
    "$A^T*A=\\begin{pmatrix}\n",
    "(4*4+5*5+2*2) & (4*1-5*2+2*3)\\\\ \n",
    "(1*4-2*5+3*2) & (1*1+2*2+3*3)\n",
    "\\end{pmatrix}= \\begin{pmatrix}\n",
    "44 & 0\\\\ \n",
    "0 & 14\n",
    "\\end{pmatrix}$."
   ]
  },
  {
   "cell_type": "code",
   "execution_count": 2,
   "id": "3e56d79e",
   "metadata": {},
   "outputs": [
    {
     "name": "stdout",
     "output_type": "stream",
     "text": [
      "A^T \n",
      " [[ 4  5  2]\n",
      " [ 1 -2  3]]\n",
      "\n",
      "A*A^T \n",
      " [[17 18 11]\n",
      " [18 29  4]\n",
      " [11  4 13]]\n",
      "\n",
      "A^T*A \n",
      " [[45  0]\n",
      " [ 0 14]]\n",
      "\n"
     ]
    }
   ],
   "source": [
    "A = np.array([[4, 1],[5, -2],[2, 3]])\n",
    "print(f'A^T \\n {A.T}\\n')\n",
    "print(f'A*A^T \\n {np.dot(A, A.T)}\\n')\n",
    "print(f'A^T*A \\n {np.dot(A.T, A)}\\n')"
   ]
  },
  {
   "cell_type": "markdown",
   "id": "b60ff2f4",
   "metadata": {},
   "source": [
    "### __5*.__ Написать на Python функцию для перемножения двух произвольных матриц, не используя NumPy."
   ]
  },
  {
   "cell_type": "code",
   "execution_count": 10,
   "id": "f73acecd",
   "metadata": {},
   "outputs": [],
   "source": [
    "def funk(a,b):\n",
    "    rezult = []\n",
    "    for k in range(len(a)):\n",
    "        rez_str = []\n",
    "        for j in range(len(b[0])):\n",
    "            s = 0\n",
    "            for i in range(len(a[0])):\n",
    "                s = s + a[k][i]*b[i][j]\n",
    "            rez_str.append(s)\n",
    "        rezult.append(rez_str)\n",
    "    return rezult\n",
    "            "
   ]
  },
  {
   "cell_type": "code",
   "execution_count": 11,
   "id": "a5a852e9",
   "metadata": {},
   "outputs": [
    {
     "name": "stdout",
     "output_type": "stream",
     "text": [
      "[[45, 0], [0, 14]]\n",
      "[[17, 18, 11], [18, 29, 4], [11, 4, 13]]\n"
     ]
    }
   ],
   "source": [
    "A = [[4,1],[5,-2],[2,3]]\n",
    "B = [[4,5,2],[1,-2,3]]\n",
    "print(funk(B,A))\n",
    "print(funk(A,B))"
   ]
  },
  {
   "cell_type": "markdown",
   "id": "54b5bfb9",
   "metadata": {},
   "source": [
    "# Матрицы и матричные операции. Часть 2"
   ]
  },
  {
   "cell_type": "markdown",
   "id": "d73602ec",
   "metadata": {},
   "source": [
    "### __1.__ Вычислить определитель:\n",
    "\n",
    "   a)\n",
    "\n",
    "$$\\begin{vmatrix}\n",
    "sinx & -cosx\\\\ \n",
    "cosx & sinx\n",
    "\\end{vmatrix};$$\n",
    "\n",
    "   б)\n",
    "    \n",
    "$$\\begin{vmatrix}\n",
    "4 & 2 & 3\\\\ \n",
    "0 & 5 & 1\\\\ \n",
    "0 & 0 & 9\n",
    "\\end{vmatrix};$$\n",
    "    \n",
    "   в)\n",
    "\n",
    "$$\\begin{vmatrix}\n",
    "1 & 2 & 3\\\\ \n",
    "4 & 5 & 6\\\\ \n",
    "7 & 8 & 9\n",
    "\\end{vmatrix}.$$"
   ]
  },
  {
   "cell_type": "markdown",
   "id": "9b2b9fcb",
   "metadata": {},
   "source": [
    "Решение:\n",
    "\n",
    "a) sin(x)*sin(x) - cos(x)*cos(x) = sin(x)^2 - cos(x)^2 = -1\n",
    "\n",
    "b) $4*\\begin{vmatrix}\n",
    "5 & 1\\\\ \n",
    "0 & 9\n",
    "\\end{vmatrix} -\n",
    "2*\\begin{vmatrix}\n",
    "0 & 1\\\\ \n",
    "0 & 9\n",
    "\\end{vmatrix}+\n",
    "3*\\begin{vmatrix}\n",
    "0 & 5\\\\ \n",
    "0 & 0\n",
    "\\end{vmatrix}=4*45-2*0+3*0 = 180\n",
    "$\n",
    "\n",
    "в) $1*\\begin{vmatrix}\n",
    "5 & 6\\\\ \n",
    "8 & 9\n",
    "\\end{vmatrix} -\n",
    "2*\\begin{vmatrix}\n",
    "4 & 6\\\\ \n",
    "7 & 9\n",
    "\\end{vmatrix}+\n",
    "3*\\begin{vmatrix}\n",
    "4 & 5\\\\ \n",
    "7 & 8\n",
    "\\end{vmatrix}=1*(45-48)-2*(36-42)+3*(32-35) = -3+12-9 =0\n",
    "$"
   ]
  },
  {
   "cell_type": "code",
   "execution_count": 3,
   "id": "3280d84f",
   "metadata": {},
   "outputs": [
    {
     "name": "stdout",
     "output_type": "stream",
     "text": [
      "определитель матрици b \n",
      "180.0\n",
      "\n",
      "определитель матрици в \n",
      "0.0\n",
      "\n"
     ]
    }
   ],
   "source": [
    "b = np.array([[4, 2, 3], [0, 5, 1], [0, 0, 9]])\n",
    "v = np.array([[1, 2, 3], [4, 5, 6], [7, 8, 9]])\n",
    "print(f'определитель матрици b \\n{np.linalg.det(b)}\\n')\n",
    "print(f'определитель матрици в \\n{np.linalg.det(v)}\\n')"
   ]
  },
  {
   "cell_type": "markdown",
   "id": "8f2ab376",
   "metadata": {},
   "source": [
    "### __2.__ Определитель матрицы $A$ равен $4$. Найти:\n",
    "\n",
    "   а) $det(A^{2})$;\n",
    "    \n",
    "   б) $det(A^{T})$;\n",
    "    \n",
    "   в) $det(2A)$.\n",
    "   \n",
    "   Решение:\n",
    "   \n",
    "   a) 16\n",
    "   \n",
    "   б) 4\n",
    "   \n",
    "   в) 8"
   ]
  },
  {
   "cell_type": "markdown",
   "id": "41c1bc0d",
   "metadata": {},
   "source": [
    "### __3.__  Доказать, что матрица\n",
    "\n",
    "$$\\begin{pmatrix}\n",
    "-2 & 7 & -3\\\\ \n",
    "4 & -14 & 6\\\\ \n",
    "-3 & 7 & 13\n",
    "\\end{pmatrix}$$\n",
    "   \n",
    "вырожденная."
   ]
  },
  {
   "cell_type": "markdown",
   "id": "216a61d2",
   "metadata": {},
   "source": [
    "Решение:\n",
    "\n",
    "найдем определитель матрицы\n",
    "\n",
    "в) $-2*\\begin{vmatrix}\n",
    "-14 & 6\\\\ \n",
    "7 & 13\n",
    "\\end{vmatrix} -\n",
    "7*\\begin{vmatrix}\n",
    "4 & 6\\\\ \n",
    "-3 & 13\n",
    "\\end{vmatrix}-\n",
    "3*\\begin{vmatrix}\n",
    "4 & -14\\\\ \n",
    "-3 & 7\n",
    "\\end{vmatrix}=-2*(-224)-7*(70)-3*(-14) = 0\n",
    "$\n",
    "\n",
    "определитель равен 0, следовательно матрица не имеет обратной и являеться вырожденной\n"
   ]
  },
  {
   "cell_type": "code",
   "execution_count": 7,
   "id": "0bd8c3af",
   "metadata": {},
   "outputs": [
    {
     "name": "stdout",
     "output_type": "stream",
     "text": [
      "определитель матрици m \n",
      "0.0\n",
      "\n"
     ]
    }
   ],
   "source": [
    "m = np.array([[-2, 7, -3], [4, -14, 6], [-3, 7, 13]])\n",
    "print(f'определитель матрици m \\n{np.linalg.det(m)}\\n')"
   ]
  },
  {
   "cell_type": "markdown",
   "id": "a0e6861a",
   "metadata": {},
   "source": [
    "### __4.__ Найти ранг матрицы:\n",
    "\n",
    "   а) $\\begin{pmatrix}\n",
    "1 & 2 & 3\\\\ \n",
    "1 & 1 & 1\\\\ \n",
    "2 & 3 & 4\n",
    "\\end{pmatrix};$\n",
    "\n",
    "   б) $\\begin{pmatrix}\n",
    "0 & 0 & 2 & 1\\\\ \n",
    "0 & 0 & 2 & 2\\\\ \n",
    "0 & 0 & 4 & 3\\\\ \n",
    "2 & 3 & 5 & 6\n",
    "\\end{pmatrix}.$\n",
    "\n",
    "Решение:\n",
    "\n",
    "а) третья строка это сумма 1 и 2 поэтому ее можно отбросить. 1 и 2 строки линейно не завилимы поэтому ранг = 2\n",
    "\n",
    "б) третья строка это сумма 1 и 2 поэтому ее можно отбросить. 1 и 2 и 4 строки линейно не завилимы поэтому ранг = 3"
   ]
  },
  {
   "cell_type": "code",
   "execution_count": 11,
   "id": "393541b7",
   "metadata": {},
   "outputs": [
    {
     "name": "stdout",
     "output_type": "stream",
     "text": [
      "ранг а = 2\n",
      "ранг b = 3\n"
     ]
    }
   ],
   "source": [
    "a = np.array([[1,2,3],[1,1,1],[2,3,4]])\n",
    "b = np.array([[0,0,2,1],[0,0,2,2],[0,0,4,3],[2,3,5,6]])\n",
    "print(f'ранг а = {np.linalg.matrix_rank(a)}')\n",
    "print(f'ранг b = {np.linalg.matrix_rank(b)}')"
   ]
  },
  {
   "cell_type": "code",
   "execution_count": null,
   "id": "1a9706cf",
   "metadata": {},
   "outputs": [],
   "source": []
  }
 ],
 "metadata": {
  "kernelspec": {
   "display_name": "Python 3",
   "language": "python",
   "name": "python3"
  },
  "language_info": {
   "codemirror_mode": {
    "name": "ipython",
    "version": 3
   },
   "file_extension": ".py",
   "mimetype": "text/x-python",
   "name": "python",
   "nbconvert_exporter": "python",
   "pygments_lexer": "ipython3",
   "version": "3.8.10"
  }
 },
 "nbformat": 4,
 "nbformat_minor": 5
}
